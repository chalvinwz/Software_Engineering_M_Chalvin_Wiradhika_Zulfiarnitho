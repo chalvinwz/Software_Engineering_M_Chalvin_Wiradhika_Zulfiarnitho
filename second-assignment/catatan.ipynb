{
 "cells": [
  {
   "cell_type": "code",
   "execution_count": 5,
   "source": [
    "# List\r\n",
    "# dictionary\r\n",
    "# tuple ()\r\n",
    "# set {}\r\n",
    "# looping\r\n",
    "# function\r\n",
    "\r\n",
    "# list\r\n",
    "contoh_list = [\"alvin\", 12, 12.0, [\"david\", \"dian\", {}, (), True]]\r\n",
    "print(contoh_list[0])\r\n",
    "print(contoh_list[1])\r\n",
    "print(contoh_list[-1])"
   ],
   "outputs": [
    {
     "output_type": "stream",
     "name": "stdout",
     "text": [
      "alvin\n",
      "12\n",
      "['david', 'dian', {}, (), True]\n"
     ]
    }
   ],
   "metadata": {}
  },
  {
   "cell_type": "code",
   "execution_count": 8,
   "source": [
    "# Dictionary\r\n",
    "contoh_dict = {2: \"alvin\", \"Dua belas\": 12, False: 12.0, 3.0: [\"david\", \"dian\"], 666: {}, \"Tuple\": (), \"Test\": True}\r\n",
    "print(contoh_dict[2])\r\n",
    "print(contoh_dict[\"Dua belas\"])\r\n",
    "print(contoh_dict[False])"
   ],
   "outputs": [
    {
     "output_type": "stream",
     "name": "stdout",
     "text": [
      "alvin\n",
      "12\n",
      "12.0\n"
     ]
    }
   ],
   "metadata": {}
  },
  {
   "cell_type": "code",
   "execution_count": 9,
   "source": [
    "# contoh method di dict: .keys()\r\n",
    "contoh_dict.keys()"
   ],
   "outputs": [
    {
     "output_type": "execute_result",
     "data": {
      "text/plain": [
       "dict_keys([2, 'Dua belas', False, 3.0, 666, 'Tuple', 'Test'])"
      ]
     },
     "metadata": {},
     "execution_count": 9
    }
   ],
   "metadata": {}
  },
  {
   "cell_type": "code",
   "execution_count": 14,
   "source": [
    "# contoh method di list: \r\n",
    "list1 = [2, 3, 4, 1, 5, 6]"
   ],
   "outputs": [],
   "metadata": {}
  },
  {
   "cell_type": "code",
   "execution_count": 15,
   "source": [
    "list1.append(\"Alvin\")\r\n",
    "print(list1)"
   ],
   "outputs": [
    {
     "output_type": "stream",
     "name": "stdout",
     "text": [
      "[2, 3, 4, 1, 5, 6, 'Alvin']\n"
     ]
    }
   ],
   "metadata": {}
  },
  {
   "cell_type": "code",
   "execution_count": 16,
   "source": [
    "list1.insert(4, \"somad\")\r\n",
    "print(list1)"
   ],
   "outputs": [
    {
     "output_type": "stream",
     "name": "stdout",
     "text": [
      "[2, 3, 4, 1, 'somad', 5, 6, 'Alvin']\n"
     ]
    }
   ],
   "metadata": {}
  },
  {
   "cell_type": "code",
   "execution_count": 21,
   "source": [
    "list_angka = [1, 2, 4, 6, 3, 1]\r\n",
    "\r\n",
    "list_angka.sort()\r\n",
    "print(list_angka)"
   ],
   "outputs": [
    {
     "output_type": "stream",
     "name": "stdout",
     "text": [
      "[1, 1, 2, 3, 4, 6]\n"
     ]
    }
   ],
   "metadata": {}
  },
  {
   "cell_type": "code",
   "execution_count": 22,
   "source": [
    "list_angka.sort(reverse=True)\r\n",
    "print(list_angka)"
   ],
   "outputs": [
    {
     "output_type": "stream",
     "name": "stdout",
     "text": [
      "[6, 4, 3, 2, 1, 1]\n"
     ]
    }
   ],
   "metadata": {}
  },
  {
   "cell_type": "code",
   "execution_count": 23,
   "source": [
    "list_angka.pop()\r\n",
    "print(list_angka)"
   ],
   "outputs": [
    {
     "output_type": "stream",
     "name": "stdout",
     "text": [
      "[6, 4, 3, 2, 1]\n"
     ]
    }
   ],
   "metadata": {}
  },
  {
   "cell_type": "code",
   "execution_count": 25,
   "source": [
    "list_angka.remove(4)\r\n",
    "print(list_angka)"
   ],
   "outputs": [
    {
     "output_type": "stream",
     "name": "stdout",
     "text": [
      "[6, 3, 2, 1]\n"
     ]
    }
   ],
   "metadata": {}
  },
  {
   "cell_type": "code",
   "execution_count": 26,
   "source": [
    "# tuple\r\n",
    "list_angka = [1, 2, 4, 6, 3, 1]\r\n",
    "list_angka"
   ],
   "outputs": [
    {
     "output_type": "execute_result",
     "data": {
      "text/plain": [
       "[1, 2, 4, 6, 3, 1]"
      ]
     },
     "metadata": {},
     "execution_count": 26
    }
   ],
   "metadata": {}
  },
  {
   "cell_type": "code",
   "execution_count": 28,
   "source": [
    "tuple_angka = tuple(list_angka)\r\n",
    "type(tuple_angka)"
   ],
   "outputs": [
    {
     "output_type": "execute_result",
     "data": {
      "text/plain": [
       "tuple"
      ]
     },
     "metadata": {},
     "execution_count": 28
    }
   ],
   "metadata": {}
  },
  {
   "cell_type": "code",
   "execution_count": 29,
   "source": [
    "set_angka = set(list_angka)\r\n",
    "set_angka"
   ],
   "outputs": [
    {
     "output_type": "execute_result",
     "data": {
      "text/plain": [
       "{1, 2, 3, 4, 6}"
      ]
     },
     "metadata": {},
     "execution_count": 29
    }
   ],
   "metadata": {}
  },
  {
   "cell_type": "code",
   "execution_count": null,
   "source": [
    "# tuple\r\n",
    "tuple_angka = (1, 3, 5, 3, 4, 7)"
   ],
   "outputs": [],
   "metadata": {}
  },
  {
   "cell_type": "code",
   "execution_count": 38,
   "source": [
    "# add value dictionary\r\n",
    "contoh_dict[\"alvin\"] = [100]\r\n",
    "print(contoh_dict)\r\n",
    "\r\n",
    "contoh_dict[\"alvin\"].append(200)\r\n",
    "print(contoh_dict)"
   ],
   "outputs": [
    {
     "output_type": "stream",
     "name": "stdout",
     "text": [
      "{2: 'alvin', 'Dua belas': 12, False: 12.0, 3.0: ['david', 'dian'], 666: {}, 'Tuple': (), 'Test': True, 'alvin': [100]}\n",
      "{2: 'alvin', 'Dua belas': 12, False: 12.0, 3.0: ['david', 'dian'], 666: {}, 'Tuple': (), 'Test': True, 'alvin': [100, 200]}\n"
     ]
    }
   ],
   "metadata": {}
  },
  {
   "cell_type": "code",
   "execution_count": 42,
   "source": [
    "# looping \r\n",
    "\r\n",
    "for i in range(10):\r\n",
    "  print(\"hai\", i + 1)"
   ],
   "outputs": [
    {
     "output_type": "stream",
     "name": "stdout",
     "text": [
      "hai 1\n",
      "hai 2\n",
      "hai 3\n",
      "hai 4\n",
      "hai 5\n",
      "hai 6\n",
      "hai 7\n",
      "hai 8\n",
      "hai 9\n",
      "hai 10\n"
     ]
    }
   ],
   "metadata": {}
  },
  {
   "cell_type": "code",
   "execution_count": 46,
   "source": [
    "for i in range(0, 20, 4):\r\n",
    "  print(\"hai\", i+1)"
   ],
   "outputs": [
    {
     "output_type": "stream",
     "name": "stdout",
     "text": [
      "hai 1\n",
      "hai 5\n",
      "hai 9\n",
      "hai 13\n",
      "hai 17\n"
     ]
    }
   ],
   "metadata": {}
  },
  {
   "cell_type": "code",
   "execution_count": 51,
   "source": [
    "# while loop\r\n",
    "a = 18\r\n",
    "while a <= 20:\r\n",
    "  print(\"somad ke {}\".format(a))\r\n",
    "  a += 1"
   ],
   "outputs": [
    {
     "output_type": "stream",
     "name": "stdout",
     "text": [
      "somad ke 18\n",
      "somad ke 19\n",
      "somad ke 20\n"
     ]
    }
   ],
   "metadata": {}
  },
  {
   "cell_type": "code",
   "execution_count": 52,
   "source": [
    "# umur user yang di input tidak boleh dibawah 17\r\n",
    "while True:\r\n",
    "  umur = int(input())\r\n",
    "  if umur >= 17:\r\n",
    "    break"
   ],
   "outputs": [],
   "metadata": {}
  },
  {
   "cell_type": "code",
   "execution_count": 58,
   "source": [
    "while True:\r\n",
    "  umur = int(input())\r\n",
    "  if umur == 17:\r\n",
    "    continue\r\n",
    "  elif umur > 17:\r\n",
    "    break\r\n",
    "  print(\"jika dibawah umur 17 aku muncul\")"
   ],
   "outputs": [
    {
     "output_type": "stream",
     "name": "stdout",
     "text": [
      "jika dibawah umur 17 aku muncul\n",
      "jika dibawah umur 17 aku muncul\n"
     ]
    }
   ],
   "metadata": {}
  },
  {
   "cell_type": "code",
   "execution_count": 64,
   "source": [
    "# for else\r\n",
    "for i in range(0, 20, 1):\r\n",
    "  print(i+1)\r\n",
    "  if i == 19:\r\n",
    "    break\r\n",
    "else:\r\n",
    "  print(\"hai kawan\")"
   ],
   "outputs": [
    {
     "output_type": "stream",
     "name": "stdout",
     "text": [
      "1\n",
      "2\n",
      "3\n",
      "4\n",
      "5\n",
      "6\n",
      "7\n",
      "8\n",
      "9\n",
      "10\n",
      "11\n",
      "12\n",
      "13\n",
      "14\n",
      "15\n",
      "16\n",
      "17\n",
      "18\n",
      "19\n",
      "20\n"
     ]
    }
   ],
   "metadata": {}
  },
  {
   "cell_type": "code",
   "execution_count": 74,
   "source": [
    "# function \r\n",
    "# def bigger_number(a, b):\r\n",
    "#   if a > b:\r\n",
    "#     result = a\r\n",
    "#   else:\r\n",
    "#     result = b\r\n",
    "#   return result\r\n",
    "\r\n",
    "\r\n",
    "def bigger_number(a, b):\r\n",
    "  result = b \r\n",
    "  if a > b:\r\n",
    "    result = a\r\n",
    "  return result"
   ],
   "outputs": [],
   "metadata": {}
  },
  {
   "cell_type": "code",
   "execution_count": 75,
   "source": [
    "print(bigger_number(2, 3))\r\n",
    "print(bigger_number(4, 2))"
   ],
   "outputs": [
    {
     "output_type": "stream",
     "name": "stdout",
     "text": [
      "3\n",
      "4\n"
     ]
    }
   ],
   "metadata": {}
  },
  {
   "cell_type": "code",
   "execution_count": 76,
   "source": [
    "for i in contoh_list:\r\n",
    "  print(i)"
   ],
   "outputs": [
    {
     "output_type": "stream",
     "name": "stdout",
     "text": [
      "alvin\n",
      "12\n",
      "12.0\n",
      "['david', 'dian', {}, (), True]\n"
     ]
    }
   ],
   "metadata": {}
  },
  {
   "cell_type": "code",
   "execution_count": null,
   "source": [],
   "outputs": [],
   "metadata": {}
  }
 ],
 "metadata": {
  "orig_nbformat": 4,
  "language_info": {
   "name": "python",
   "version": "3.9.7",
   "mimetype": "text/x-python",
   "codemirror_mode": {
    "name": "ipython",
    "version": 3
   },
   "pygments_lexer": "ipython3",
   "nbconvert_exporter": "python",
   "file_extension": ".py"
  },
  "kernelspec": {
   "name": "python3",
   "display_name": "Python 3.9.7 64-bit"
  },
  "interpreter": {
   "hash": "a53eeb9ae50ea01df8285f2247677bdcd76168ef5254ad1f9a0e098d5e4fccd1"
  }
 },
 "nbformat": 4,
 "nbformat_minor": 2
}