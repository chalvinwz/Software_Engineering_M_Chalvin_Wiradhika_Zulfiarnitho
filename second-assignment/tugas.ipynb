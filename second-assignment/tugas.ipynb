{
 "cells": [
  {
   "cell_type": "code",
   "execution_count": 26,
   "source": [
    "# Gas type declaration\r\n",
    "dict_bbm = {\"premium\": 0, \"pertalite\": 0, \"pertamax\": 0, \"diesel\": 0}\r\n",
    "\r\n",
    "# User input loop\r\n",
    "while True:\r\n",
    "  nama_bbm = int(input(\"Masukkan nomor bbm: \"))\r\n",
    "  \r\n",
    "  # Conditional\r\n",
    "  if (nama_bbm == 0):\r\n",
    "    break\r\n",
    "  elif (nama_bbm == 1):\r\n",
    "    dict_bbm[\"premium\"] += 1\r\n",
    "  elif (nama_bbm == 2):\r\n",
    "    dict_bbm[\"pertalite\"] += 1\r\n",
    "  elif (nama_bbm == 3):\r\n",
    "    dict_bbm[\"pertamax\"] += 1\r\n",
    "  elif (nama_bbm == 4):\r\n",
    "    dict_bbm[\"diesel\"] += 1\r\n",
    "\r\n",
    "# print the results\r\n",
    "print(dict_bbm)\r\n"
   ],
   "outputs": [
    {
     "output_type": "stream",
     "name": "stdout",
     "text": [
      "{'premium': 4, 'pertalite': 3, 'pertamax': 0, 'diesel': 0}\n"
     ]
    }
   ],
   "metadata": {}
  }
 ],
 "metadata": {
  "orig_nbformat": 4,
  "language_info": {
   "name": "python",
   "version": "3.9.7",
   "mimetype": "text/x-python",
   "codemirror_mode": {
    "name": "ipython",
    "version": 3
   },
   "pygments_lexer": "ipython3",
   "nbconvert_exporter": "python",
   "file_extension": ".py"
  },
  "kernelspec": {
   "name": "python3",
   "display_name": "Python 3.9.7 64-bit"
  },
  "interpreter": {
   "hash": "a53eeb9ae50ea01df8285f2247677bdcd76168ef5254ad1f9a0e098d5e4fccd1"
  }
 },
 "nbformat": 4,
 "nbformat_minor": 2
}