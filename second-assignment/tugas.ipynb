{
 "cells": [
  {
   "cell_type": "code",
   "execution_count": 5,
   "source": [
    "# Gas type declaration\r\n",
    "gas_dict = {\r\n",
    "  \"premium\": 0, \r\n",
    "  \"pertalite\": 0, \r\n",
    "  \"pertamax\": 0, \r\n",
    "  \"diesel\": 0\r\n",
    "  }\r\n",
    "\r\n",
    "# User input loop\r\n",
    "while True:\r\n",
    "  gas_number = int(input(\"Enter the gas number: \"))\r\n",
    "  \r\n",
    "  # Conditional\r\n",
    "  if gas_number == 0:\r\n",
    "    break\r\n",
    "  elif gas_number == 1:\r\n",
    "    gas_dict[\"premium\"] += 1\r\n",
    "  elif gas_number == 2:\r\n",
    "    gas_dict[\"pertalite\"] += 1\r\n",
    "  elif gas_number == 3:\r\n",
    "    gas_dict[\"pertamax\"] += 1\r\n",
    "  elif gas_number == 4:\r\n",
    "    gas_dict[\"diesel\"] += 1\r\n",
    "  else:\r\n",
    "    continue\r\n",
    "  \r\n",
    "# Print the results\r\n",
    "for x, y in gas_dict.items():\r\n",
    "  print('\"{}: {}\"'.format(x.capitalize(), y))"
   ],
   "outputs": [
    {
     "output_type": "stream",
     "name": "stdout",
     "text": [
      "\"Premium: 1\"\n",
      "\"Pertalite: 1\"\n",
      "\"Pertamax: 1\"\n",
      "\"Diesel: 2\"\n"
     ]
    }
   ],
   "metadata": {}
  }
 ],
 "metadata": {
  "orig_nbformat": 4,
  "language_info": {
   "name": "python",
   "version": "3.9.7",
   "mimetype": "text/x-python",
   "codemirror_mode": {
    "name": "ipython",
    "version": 3
   },
   "pygments_lexer": "ipython3",
   "nbconvert_exporter": "python",
   "file_extension": ".py"
  },
  "kernelspec": {
   "name": "python3",
   "display_name": "Python 3.9.7 64-bit"
  },
  "interpreter": {
   "hash": "a53eeb9ae50ea01df8285f2247677bdcd76168ef5254ad1f9a0e098d5e4fccd1"
  }
 },
 "nbformat": 4,
 "nbformat_minor": 2
}