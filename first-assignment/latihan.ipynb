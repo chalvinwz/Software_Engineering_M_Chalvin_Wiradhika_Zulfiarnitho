{
 "cells": [
  {
   "cell_type": "code",
   "execution_count": 1,
   "source": [
    "a = int(input(\"Enter the number: \"))\r\n",
    "\r\n",
    "if a > 0:\r\n",
    "  result = round(a ** (1/3)) #! for positive value\r\n",
    "else:\r\n",
    "  result = round(-(-a) ** (1/3)) #! for negative value\r\n",
    "print(result)"
   ],
   "outputs": [
    {
     "output_type": "stream",
     "name": "stdout",
     "text": [
      "4\n"
     ]
    }
   ],
   "metadata": {}
  }
 ],
 "metadata": {
  "orig_nbformat": 4,
  "language_info": {
   "name": "python",
   "version": "3.9.7",
   "mimetype": "text/x-python",
   "codemirror_mode": {
    "name": "ipython",
    "version": 3
   },
   "pygments_lexer": "ipython3",
   "nbconvert_exporter": "python",
   "file_extension": ".py"
  },
  "kernelspec": {
   "name": "python3",
   "display_name": "Python 3.9.7 64-bit"
  },
  "interpreter": {
   "hash": "a53eeb9ae50ea01df8285f2247677bdcd76168ef5254ad1f9a0e098d5e4fccd1"
  }
 },
 "nbformat": 4,
 "nbformat_minor": 2
}