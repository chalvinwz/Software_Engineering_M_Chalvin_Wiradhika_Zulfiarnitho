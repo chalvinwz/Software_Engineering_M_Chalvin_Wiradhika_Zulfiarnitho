{
 "cells": [
  {
   "cell_type": "code",
   "execution_count": 4,
   "source": [
    "# Contoh contoh variabel\r\n",
    "\r\n",
    "a = 10 # integer\r\n",
    "b = 3.14 # float\r\n",
    "c = \"s\" # string\r\n",
    "d = \"somad\" # string\r\n",
    "e = True # boolean\r\n",
    "f = False # boolean\r\n",
    "g = [] # list\r\n",
    "h = [1, 2, 3] # list\r\n",
    "i = {} # dictionary\r\n",
    "j = () # tuple\r\n",
    "\r\n",
    "# integer, float, string, boolean, list, dictionary, tuple"
   ],
   "outputs": [],
   "metadata": {}
  },
  {
   "cell_type": "code",
   "execution_count": 5,
   "source": [
    "# print => untuk debugging \r\n",
    "\r\n",
    "print(a)"
   ],
   "outputs": [
    {
     "output_type": "stream",
     "name": "stdout",
     "text": [
      "10\n"
     ]
    }
   ],
   "metadata": {}
  },
  {
   "cell_type": "code",
   "execution_count": 6,
   "source": [
    "print(2+4*3)"
   ],
   "outputs": [
    {
     "output_type": "stream",
     "name": "stdout",
     "text": [
      "14\n"
     ]
    }
   ],
   "metadata": {}
  },
  {
   "cell_type": "code",
   "execution_count": 18,
   "source": [
    "nama = input(\"masukkan nama\")"
   ],
   "outputs": [],
   "metadata": {}
  },
  {
   "cell_type": "code",
   "execution_count": 12,
   "source": [
    "# concatination\r\n",
    "\r\n",
    "nama = \"somad\"\r\n",
    "umur = 45\r\n",
    "alamat = \"bekasi\"\r\n"
   ],
   "outputs": [],
   "metadata": {}
  },
  {
   "cell_type": "code",
   "execution_count": 13,
   "source": [
    "print(\"hai namaku adalah \" + nama)\r\n",
    "print(\"hai namaku adalah {}, umurku {}, aku tinggal di {}\".format(nama, umur, alamat))\r\n",
    "print(\"Hai namaku adalah\", nama ,\", aku tinggal di\", alamat ,\", umurku\", umur)"
   ],
   "outputs": [
    {
     "output_type": "stream",
     "name": "stdout",
     "text": [
      "hai namaku adalah somad\n",
      "hai namaku adalah somad, umurku 45, aku tinggal di bekasi\n",
      "Hai namaku adalah somad , aku tinggal di bekasi , umurku 45\n"
     ]
    }
   ],
   "metadata": {}
  },
  {
   "cell_type": "code",
   "execution_count": 5,
   "source": [
    "import math\r\n",
    "\r\n",
    "a = 10\r\n",
    "b = 10\r\n",
    "\r\n",
    "# if else\r\n",
    "\r\n",
    "## conditional statement\r\n",
    "a == b \r\n",
    "a != b\r\n",
    "a <= b\r\n",
    "a >= b\r\n",
    "a < b\r\n",
    "a > b\r\n",
    "True and True\r\n",
    "True or True\r\n",
    "\r\n",
    "## operator \r\n",
    "a + b\r\n",
    "a - b\r\n",
    "a * b\r\n",
    "a / b\r\n",
    "a // b\r\n",
    "a ** b\r\n",
    "a % b\r\n",
    "a ** (1/2)\r\n",
    "math.sqrt(a)\r\n",
    "math.sin(a)\r\n",
    "math.cos(a)\r\n",
    "math.tan(a)\r\n",
    "math.log(a)\r\n",
    "\r\n"
   ],
   "outputs": [
    {
     "output_type": "execute_result",
     "data": {
      "text/plain": [
       "2.302585092994046"
      ]
     },
     "metadata": {},
     "execution_count": 5
    }
   ],
   "metadata": {}
  },
  {
   "cell_type": "code",
   "execution_count": 7,
   "source": [
    "# if else \r\n",
    "\r\n",
    "if a == 10:\r\n",
    "  print(\"a sama dengan 10\")\r\n",
    "elif a > 10:\r\n",
    "  print(\"a lebih besar dari 10\")\r\n",
    "else:\r\n",
    "  print(\"a kurang dari 10\")"
   ],
   "outputs": [
    {
     "output_type": "stream",
     "name": "stdout",
     "text": [
      "a sama dengan 10\n"
     ]
    }
   ],
   "metadata": {}
  }
 ],
 "metadata": {
  "orig_nbformat": 4,
  "language_info": {
   "name": "python",
   "version": "3.9.7",
   "mimetype": "text/x-python",
   "codemirror_mode": {
    "name": "ipython",
    "version": 3
   },
   "pygments_lexer": "ipython3",
   "nbconvert_exporter": "python",
   "file_extension": ".py"
  },
  "kernelspec": {
   "name": "python3",
   "display_name": "Python 3.9.7 64-bit"
  },
  "interpreter": {
   "hash": "a53eeb9ae50ea01df8285f2247677bdcd76168ef5254ad1f9a0e098d5e4fccd1"
  }
 },
 "nbformat": 4,
 "nbformat_minor": 2
}