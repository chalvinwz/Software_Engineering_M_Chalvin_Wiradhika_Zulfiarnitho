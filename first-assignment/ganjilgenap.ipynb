{
 "cells": [
  {
   "cell_type": "code",
   "execution_count": 1,
   "source": [
    "x = int(input(\"Masukkan angka: \"))\r\n",
    "\r\n",
    "if x % 2 == 0:\r\n",
    "  print(\"genap\")\r\n",
    "else:\r\n",
    "  print(\"ganjil\")"
   ],
   "outputs": [
    {
     "output_type": "stream",
     "name": "stdout",
     "text": [
      "genap\n"
     ]
    }
   ],
   "metadata": {}
  },
  {
   "cell_type": "code",
   "execution_count": 7,
   "source": [
    "a = int(input(\"Masukkan angka: \"))\r\n",
    "\r\n",
    "if a >= 10 and a <= 30:\r\n",
    "  print(\"Nilai a ada diantara 10 - 30\")\r\n",
    "else:\r\n",
    "  print(\"salah\")"
   ],
   "outputs": [
    {
     "output_type": "stream",
     "name": "stdout",
     "text": [
      "salah\n"
     ]
    }
   ],
   "metadata": {}
  },
  {
   "cell_type": "code",
   "execution_count": 9,
   "source": [
    "a = int(input(\"Input number 3 or 9 or 8 or 10: \"))\r\n",
    "\r\n",
    "if a % 3 == 0:\r\n",
    "  print(\"benar\")\r\n",
    "else:\r\n",
    "  print(\"salah\")"
   ],
   "outputs": [
    {
     "output_type": "stream",
     "name": "stdout",
     "text": [
      "benar\n"
     ]
    }
   ],
   "metadata": {}
  },
  {
   "cell_type": "code",
   "execution_count": 12,
   "source": [
    "x = int(input(\"Masukkan panjang jari jari: \"))\r\n",
    "\r\n",
    "result = (22/7) * x**2\r\n",
    "\r\n",
    "print(result)"
   ],
   "outputs": [
    {
     "output_type": "stream",
     "name": "stdout",
     "text": [
      "78.57142857142857\n"
     ]
    }
   ],
   "metadata": {}
  }
 ],
 "metadata": {
  "orig_nbformat": 4,
  "language_info": {
   "name": "python",
   "version": "3.9.7",
   "mimetype": "text/x-python",
   "codemirror_mode": {
    "name": "ipython",
    "version": 3
   },
   "pygments_lexer": "ipython3",
   "nbconvert_exporter": "python",
   "file_extension": ".py"
  },
  "kernelspec": {
   "name": "python3",
   "display_name": "Python 3.9.7 64-bit"
  },
  "interpreter": {
   "hash": "a53eeb9ae50ea01df8285f2247677bdcd76168ef5254ad1f9a0e098d5e4fccd1"
  }
 },
 "nbformat": 4,
 "nbformat_minor": 2
}